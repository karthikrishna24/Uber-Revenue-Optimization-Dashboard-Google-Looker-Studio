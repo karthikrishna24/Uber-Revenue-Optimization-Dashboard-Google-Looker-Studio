{
 "cells": [
  {
   "cell_type": "markdown",
   "id": "85fab25b",
   "metadata": {},
   "source": [
    "# Enabling  spark Session"
   ]
  },
  {
   "cell_type": "code",
   "execution_count": 1,
   "id": "530fd371",
   "metadata": {},
   "outputs": [],
   "source": [
    "import pyspark \n",
    "import pandas as pd\n",
    "from pyspark.sql.functions import *\n",
    "from pyspark.sql import SparkSession\n",
    "from pyspark.sql.window import Window"
   ]
  },
  {
   "cell_type": "code",
   "execution_count": 2,
   "id": "1dd31055",
   "metadata": {},
   "outputs": [],
   "source": [
    "spark = SparkSession.builder.appName(\"Uber_data\").master(\"local\").getOrCreate()"
   ]
  },
  {
   "cell_type": "code",
   "execution_count": 3,
   "id": "b7bb370d",
   "metadata": {},
   "outputs": [],
   "source": [
    "spark.conf.set(\"spark.sql.repl.eagerEval.enabled\",True)\n",
    "spark.conf.set(\"spark.sql.legacy.timeParserPolicy\", \"LEGACY\")"
   ]
  },
  {
   "cell_type": "markdown",
   "id": "59a4884e",
   "metadata": {},
   "source": [
    "# Reading the csv file"
   ]
  },
  {
   "cell_type": "code",
   "execution_count": 4,
   "id": "85714517",
   "metadata": {},
   "outputs": [],
   "source": [
    "df=spark.read.format('csv').options(header=True).load('uber_data.csv')"
   ]
  },
  {
   "cell_type": "code",
   "execution_count": 5,
   "id": "4029a08b",
   "metadata": {},
   "outputs": [],
   "source": [
    "#df=spark.read.option('header','true').csv('uber_data.csv')"
   ]
  },
  {
   "cell_type": "code",
   "execution_count": 6,
   "id": "95ca11d6",
   "metadata": {},
   "outputs": [
    {
     "data": {
      "text/html": [
       "<table border='1'>\n",
       "<tr><th>VendorID</th><th>tpep_pickup_datetime</th><th>tpep_dropoff_datetime</th><th>passenger_count</th><th>trip_distance</th><th>pickup_longitude</th><th>pickup_latitude</th><th>RatecodeID</th><th>store_and_fwd_flag</th><th>dropoff_longitude</th><th>dropoff_latitude</th><th>payment_type</th><th>fare_amount</th><th>extra</th><th>mta_tax</th><th>tip_amount</th><th>tolls_amount</th><th>improvement_surcharge</th><th>total_amount</th></tr>\n",
       "<tr><td>1</td><td>2016-03-01 00:00:00</td><td>2016-03-01 00:07:55</td><td>1</td><td>2.5</td><td>-73.97674560546875</td><td>40.765151977539055</td><td>1</td><td>N</td><td>-74.00426483154298</td><td>40.74612808227539</td><td>1</td><td>9.0</td><td>0.5</td><td>0.5</td><td>2.05</td><td>0.0</td><td>0.3</td><td>12.35</td></tr>\n",
       "<tr><td>1</td><td>2016-03-01 00:00:00</td><td>2016-03-01 00:11:06</td><td>1</td><td>2.9</td><td>-73.98348236083984</td><td>40.767925262451165</td><td>1</td><td>N</td><td>-74.00594329833984</td><td>40.7331657409668</td><td>1</td><td>11.0</td><td>0.5</td><td>0.5</td><td>3.05</td><td>0.0</td><td>0.3</td><td>15.35</td></tr>\n",
       "<tr><td>2</td><td>2016-03-01 00:00:00</td><td>2016-03-01 00:31:06</td><td>2</td><td>19.98</td><td>-73.78202056884764</td><td>40.64480972290039</td><td>1</td><td>N</td><td>-73.97454071044923</td><td>40.6757698059082</td><td>1</td><td>54.5</td><td>0.5</td><td>0.5</td><td>8.0</td><td>0.0</td><td>0.3</td><td>63.8</td></tr>\n",
       "<tr><td>2</td><td>2016-03-01 00:00:00</td><td>2016-03-01 00:00:00</td><td>3</td><td>10.78</td><td>-73.86341857910156</td><td>40.769813537597656</td><td>1</td><td>N</td><td>-73.96965026855469</td><td>40.757766723632805</td><td>1</td><td>31.5</td><td>0.0</td><td>0.5</td><td>3.78</td><td>5.54</td><td>0.3</td><td>41.62</td></tr>\n",
       "<tr><td>2</td><td>2016-03-01 00:00:00</td><td>2016-03-01 00:00:00</td><td>5</td><td>30.43</td><td>-73.97174072265625</td><td>40.79218292236328</td><td>3</td><td>N</td><td>-74.17716979980467</td><td>40.69505310058594</td><td>1</td><td>98.0</td><td>0.0</td><td>0.0</td><td>0.0</td><td>15.5</td><td>0.3</td><td>113.8</td></tr>\n",
       "</table>\n"
      ],
      "text/plain": [
       "+--------+--------------------+---------------------+---------------+-------------+------------------+------------------+----------+------------------+------------------+------------------+------------+-----------+-----+-------+----------+------------+---------------------+------------+\n",
       "|VendorID|tpep_pickup_datetime|tpep_dropoff_datetime|passenger_count|trip_distance|  pickup_longitude|   pickup_latitude|RatecodeID|store_and_fwd_flag| dropoff_longitude|  dropoff_latitude|payment_type|fare_amount|extra|mta_tax|tip_amount|tolls_amount|improvement_surcharge|total_amount|\n",
       "+--------+--------------------+---------------------+---------------+-------------+------------------+------------------+----------+------------------+------------------+------------------+------------+-----------+-----+-------+----------+------------+---------------------+------------+\n",
       "|       1| 2016-03-01 00:00:00|  2016-03-01 00:07:55|              1|          2.5|-73.97674560546875|40.765151977539055|         1|                 N|-74.00426483154298| 40.74612808227539|           1|        9.0|  0.5|    0.5|      2.05|         0.0|                  0.3|       12.35|\n",
       "|       1| 2016-03-01 00:00:00|  2016-03-01 00:11:06|              1|          2.9|-73.98348236083984|40.767925262451165|         1|                 N|-74.00594329833984|  40.7331657409668|           1|       11.0|  0.5|    0.5|      3.05|         0.0|                  0.3|       15.35|\n",
       "|       2| 2016-03-01 00:00:00|  2016-03-01 00:31:06|              2|        19.98|-73.78202056884764| 40.64480972290039|         1|                 N|-73.97454071044923|  40.6757698059082|           1|       54.5|  0.5|    0.5|       8.0|         0.0|                  0.3|        63.8|\n",
       "|       2| 2016-03-01 00:00:00|  2016-03-01 00:00:00|              3|        10.78|-73.86341857910156|40.769813537597656|         1|                 N|-73.96965026855469|40.757766723632805|           1|       31.5|  0.0|    0.5|      3.78|        5.54|                  0.3|       41.62|\n",
       "|       2| 2016-03-01 00:00:00|  2016-03-01 00:00:00|              5|        30.43|-73.97174072265625| 40.79218292236328|         3|                 N|-74.17716979980467| 40.69505310058594|           1|       98.0|  0.0|    0.0|       0.0|        15.5|                  0.3|       113.8|\n",
       "+--------+--------------------+---------------------+---------------+-------------+------------------+------------------+----------+------------------+------------------+------------------+------------+-----------+-----+-------+----------+------------+---------------------+------------+"
      ]
     },
     "execution_count": 6,
     "metadata": {},
     "output_type": "execute_result"
    }
   ],
   "source": [
    "df.limit(5)"
   ]
  },
  {
   "cell_type": "code",
   "execution_count": 7,
   "id": "af4df3ad",
   "metadata": {},
   "outputs": [
    {
     "name": "stdout",
     "output_type": "stream",
     "text": [
      "root\n",
      " |-- VendorID: string (nullable = true)\n",
      " |-- tpep_pickup_datetime: string (nullable = true)\n",
      " |-- tpep_dropoff_datetime: string (nullable = true)\n",
      " |-- passenger_count: string (nullable = true)\n",
      " |-- trip_distance: string (nullable = true)\n",
      " |-- pickup_longitude: string (nullable = true)\n",
      " |-- pickup_latitude: string (nullable = true)\n",
      " |-- RatecodeID: string (nullable = true)\n",
      " |-- store_and_fwd_flag: string (nullable = true)\n",
      " |-- dropoff_longitude: string (nullable = true)\n",
      " |-- dropoff_latitude: string (nullable = true)\n",
      " |-- payment_type: string (nullable = true)\n",
      " |-- fare_amount: string (nullable = true)\n",
      " |-- extra: string (nullable = true)\n",
      " |-- mta_tax: string (nullable = true)\n",
      " |-- tip_amount: string (nullable = true)\n",
      " |-- tolls_amount: string (nullable = true)\n",
      " |-- improvement_surcharge: string (nullable = true)\n",
      " |-- total_amount: string (nullable = true)\n",
      "\n"
     ]
    }
   ],
   "source": [
    "df.printSchema()"
   ]
  },
  {
   "cell_type": "markdown",
   "id": "f24ccb0e",
   "metadata": {},
   "source": [
    "# Converting date time in their respective type"
   ]
  },
  {
   "cell_type": "code",
   "execution_count": 8,
   "id": "0b2b5a59",
   "metadata": {},
   "outputs": [],
   "source": [
    "df = df.withColumn(\"trip_id\", monotonically_increasing_id())"
   ]
  },
  {
   "cell_type": "code",
   "execution_count": 9,
   "id": "f249bd79",
   "metadata": {},
   "outputs": [
    {
     "data": {
      "text/html": [
       "<table border='1'>\n",
       "<tr><th>VendorID</th><th>tpep_pickup_datetime</th><th>tpep_dropoff_datetime</th><th>passenger_count</th><th>trip_distance</th><th>pickup_longitude</th><th>pickup_latitude</th><th>RatecodeID</th><th>store_and_fwd_flag</th><th>dropoff_longitude</th><th>dropoff_latitude</th><th>payment_type</th><th>fare_amount</th><th>extra</th><th>mta_tax</th><th>tip_amount</th><th>tolls_amount</th><th>improvement_surcharge</th><th>total_amount</th><th>trip_id</th></tr>\n",
       "<tr><td>1</td><td>2016-03-01 00:00:00</td><td>2016-03-01 00:07:55</td><td>1</td><td>2.5</td><td>-73.97674560546875</td><td>40.765151977539055</td><td>1</td><td>N</td><td>-74.00426483154298</td><td>40.74612808227539</td><td>1</td><td>9.0</td><td>0.5</td><td>0.5</td><td>2.05</td><td>0.0</td><td>0.3</td><td>12.35</td><td>0</td></tr>\n",
       "<tr><td>1</td><td>2016-03-01 00:00:00</td><td>2016-03-01 00:11:06</td><td>1</td><td>2.9</td><td>-73.98348236083984</td><td>40.767925262451165</td><td>1</td><td>N</td><td>-74.00594329833984</td><td>40.7331657409668</td><td>1</td><td>11.0</td><td>0.5</td><td>0.5</td><td>3.05</td><td>0.0</td><td>0.3</td><td>15.35</td><td>1</td></tr>\n",
       "<tr><td>2</td><td>2016-03-01 00:00:00</td><td>2016-03-01 00:31:06</td><td>2</td><td>19.98</td><td>-73.78202056884764</td><td>40.64480972290039</td><td>1</td><td>N</td><td>-73.97454071044923</td><td>40.6757698059082</td><td>1</td><td>54.5</td><td>0.5</td><td>0.5</td><td>8.0</td><td>0.0</td><td>0.3</td><td>63.8</td><td>2</td></tr>\n",
       "<tr><td>2</td><td>2016-03-01 00:00:00</td><td>2016-03-01 00:00:00</td><td>3</td><td>10.78</td><td>-73.86341857910156</td><td>40.769813537597656</td><td>1</td><td>N</td><td>-73.96965026855469</td><td>40.757766723632805</td><td>1</td><td>31.5</td><td>0.0</td><td>0.5</td><td>3.78</td><td>5.54</td><td>0.3</td><td>41.62</td><td>3</td></tr>\n",
       "<tr><td>2</td><td>2016-03-01 00:00:00</td><td>2016-03-01 00:00:00</td><td>5</td><td>30.43</td><td>-73.97174072265625</td><td>40.79218292236328</td><td>3</td><td>N</td><td>-74.17716979980467</td><td>40.69505310058594</td><td>1</td><td>98.0</td><td>0.0</td><td>0.0</td><td>0.0</td><td>15.5</td><td>0.3</td><td>113.8</td><td>4</td></tr>\n",
       "</table>\n"
      ],
      "text/plain": [
       "+--------+--------------------+---------------------+---------------+-------------+------------------+------------------+----------+------------------+------------------+------------------+------------+-----------+-----+-------+----------+------------+---------------------+------------+-------+\n",
       "|VendorID|tpep_pickup_datetime|tpep_dropoff_datetime|passenger_count|trip_distance|  pickup_longitude|   pickup_latitude|RatecodeID|store_and_fwd_flag| dropoff_longitude|  dropoff_latitude|payment_type|fare_amount|extra|mta_tax|tip_amount|tolls_amount|improvement_surcharge|total_amount|trip_id|\n",
       "+--------+--------------------+---------------------+---------------+-------------+------------------+------------------+----------+------------------+------------------+------------------+------------+-----------+-----+-------+----------+------------+---------------------+------------+-------+\n",
       "|       1| 2016-03-01 00:00:00|  2016-03-01 00:07:55|              1|          2.5|-73.97674560546875|40.765151977539055|         1|                 N|-74.00426483154298| 40.74612808227539|           1|        9.0|  0.5|    0.5|      2.05|         0.0|                  0.3|       12.35|      0|\n",
       "|       1| 2016-03-01 00:00:00|  2016-03-01 00:11:06|              1|          2.9|-73.98348236083984|40.767925262451165|         1|                 N|-74.00594329833984|  40.7331657409668|           1|       11.0|  0.5|    0.5|      3.05|         0.0|                  0.3|       15.35|      1|\n",
       "|       2| 2016-03-01 00:00:00|  2016-03-01 00:31:06|              2|        19.98|-73.78202056884764| 40.64480972290039|         1|                 N|-73.97454071044923|  40.6757698059082|           1|       54.5|  0.5|    0.5|       8.0|         0.0|                  0.3|        63.8|      2|\n",
       "|       2| 2016-03-01 00:00:00|  2016-03-01 00:00:00|              3|        10.78|-73.86341857910156|40.769813537597656|         1|                 N|-73.96965026855469|40.757766723632805|           1|       31.5|  0.0|    0.5|      3.78|        5.54|                  0.3|       41.62|      3|\n",
       "|       2| 2016-03-01 00:00:00|  2016-03-01 00:00:00|              5|        30.43|-73.97174072265625| 40.79218292236328|         3|                 N|-74.17716979980467| 40.69505310058594|           1|       98.0|  0.0|    0.0|       0.0|        15.5|                  0.3|       113.8|      4|\n",
       "+--------+--------------------+---------------------+---------------+-------------+------------------+------------------+----------+------------------+------------------+------------------+------------+-----------+-----+-------+----------+------------+---------------------+------------+-------+"
      ]
     },
     "execution_count": 9,
     "metadata": {},
     "output_type": "execute_result"
    }
   ],
   "source": [
    "df.limit(5)"
   ]
  },
  {
   "cell_type": "code",
   "execution_count": 10,
   "id": "6bac6a77",
   "metadata": {},
   "outputs": [],
   "source": [
    "df=df.withColumn('tpep_pickup_datetime',to_timestamp(df.tpep_pickup_datetime))\n",
    "df=df.withColumn('tpep_dropoff_datetime',to_timestamp(df.tpep_dropoff_datetime))"
   ]
  },
  {
   "cell_type": "code",
   "execution_count": 11,
   "id": "d6caa62a",
   "metadata": {},
   "outputs": [
    {
     "name": "stdout",
     "output_type": "stream",
     "text": [
      "root\n",
      " |-- VendorID: string (nullable = true)\n",
      " |-- tpep_pickup_datetime: timestamp (nullable = true)\n",
      " |-- tpep_dropoff_datetime: timestamp (nullable = true)\n",
      " |-- passenger_count: string (nullable = true)\n",
      " |-- trip_distance: string (nullable = true)\n",
      " |-- pickup_longitude: string (nullable = true)\n",
      " |-- pickup_latitude: string (nullable = true)\n",
      " |-- RatecodeID: string (nullable = true)\n",
      " |-- store_and_fwd_flag: string (nullable = true)\n",
      " |-- dropoff_longitude: string (nullable = true)\n",
      " |-- dropoff_latitude: string (nullable = true)\n",
      " |-- payment_type: string (nullable = true)\n",
      " |-- fare_amount: string (nullable = true)\n",
      " |-- extra: string (nullable = true)\n",
      " |-- mta_tax: string (nullable = true)\n",
      " |-- tip_amount: string (nullable = true)\n",
      " |-- tolls_amount: string (nullable = true)\n",
      " |-- improvement_surcharge: string (nullable = true)\n",
      " |-- total_amount: string (nullable = true)\n",
      " |-- trip_id: long (nullable = false)\n",
      "\n"
     ]
    }
   ],
   "source": [
    "df.printSchema()"
   ]
  },
  {
   "cell_type": "code",
   "execution_count": 12,
   "id": "d977bec4",
   "metadata": {},
   "outputs": [
    {
     "data": {
      "text/html": [
       "<table border='1'>\n",
       "<tr><th>VendorID</th><th>tpep_pickup_datetime</th><th>tpep_dropoff_datetime</th><th>passenger_count</th><th>trip_distance</th><th>pickup_longitude</th><th>pickup_latitude</th><th>RatecodeID</th><th>store_and_fwd_flag</th><th>dropoff_longitude</th><th>dropoff_latitude</th><th>payment_type</th><th>fare_amount</th><th>extra</th><th>mta_tax</th><th>tip_amount</th><th>tolls_amount</th><th>improvement_surcharge</th><th>total_amount</th><th>trip_id</th></tr>\n",
       "<tr><td>1</td><td>2016-03-01 00:00:00</td><td>2016-03-01 00:07:55</td><td>1</td><td>2.5</td><td>-73.97674560546875</td><td>40.765151977539055</td><td>1</td><td>N</td><td>-74.00426483154298</td><td>40.74612808227539</td><td>1</td><td>9.0</td><td>0.5</td><td>0.5</td><td>2.05</td><td>0.0</td><td>0.3</td><td>12.35</td><td>0</td></tr>\n",
       "<tr><td>1</td><td>2016-03-01 00:00:00</td><td>2016-03-01 00:11:06</td><td>1</td><td>2.9</td><td>-73.98348236083984</td><td>40.767925262451165</td><td>1</td><td>N</td><td>-74.00594329833984</td><td>40.7331657409668</td><td>1</td><td>11.0</td><td>0.5</td><td>0.5</td><td>3.05</td><td>0.0</td><td>0.3</td><td>15.35</td><td>1</td></tr>\n",
       "<tr><td>2</td><td>2016-03-01 00:00:00</td><td>2016-03-01 00:31:06</td><td>2</td><td>19.98</td><td>-73.78202056884764</td><td>40.64480972290039</td><td>1</td><td>N</td><td>-73.97454071044923</td><td>40.6757698059082</td><td>1</td><td>54.5</td><td>0.5</td><td>0.5</td><td>8.0</td><td>0.0</td><td>0.3</td><td>63.8</td><td>2</td></tr>\n",
       "<tr><td>2</td><td>2016-03-01 00:00:00</td><td>2016-03-01 00:00:00</td><td>3</td><td>10.78</td><td>-73.86341857910156</td><td>40.769813537597656</td><td>1</td><td>N</td><td>-73.96965026855469</td><td>40.757766723632805</td><td>1</td><td>31.5</td><td>0.0</td><td>0.5</td><td>3.78</td><td>5.54</td><td>0.3</td><td>41.62</td><td>3</td></tr>\n",
       "</table>\n"
      ],
      "text/plain": [
       "+--------+--------------------+---------------------+---------------+-------------+------------------+------------------+----------+------------------+------------------+------------------+------------+-----------+-----+-------+----------+------------+---------------------+------------+-------+\n",
       "|VendorID|tpep_pickup_datetime|tpep_dropoff_datetime|passenger_count|trip_distance|  pickup_longitude|   pickup_latitude|RatecodeID|store_and_fwd_flag| dropoff_longitude|  dropoff_latitude|payment_type|fare_amount|extra|mta_tax|tip_amount|tolls_amount|improvement_surcharge|total_amount|trip_id|\n",
       "+--------+--------------------+---------------------+---------------+-------------+------------------+------------------+----------+------------------+------------------+------------------+------------+-----------+-----+-------+----------+------------+---------------------+------------+-------+\n",
       "|       1| 2016-03-01 00:00:00|  2016-03-01 00:07:55|              1|          2.5|-73.97674560546875|40.765151977539055|         1|                 N|-74.00426483154298| 40.74612808227539|           1|        9.0|  0.5|    0.5|      2.05|         0.0|                  0.3|       12.35|      0|\n",
       "|       1| 2016-03-01 00:00:00|  2016-03-01 00:11:06|              1|          2.9|-73.98348236083984|40.767925262451165|         1|                 N|-74.00594329833984|  40.7331657409668|           1|       11.0|  0.5|    0.5|      3.05|         0.0|                  0.3|       15.35|      1|\n",
       "|       2| 2016-03-01 00:00:00|  2016-03-01 00:31:06|              2|        19.98|-73.78202056884764| 40.64480972290039|         1|                 N|-73.97454071044923|  40.6757698059082|           1|       54.5|  0.5|    0.5|       8.0|         0.0|                  0.3|        63.8|      2|\n",
       "|       2| 2016-03-01 00:00:00|  2016-03-01 00:00:00|              3|        10.78|-73.86341857910156|40.769813537597656|         1|                 N|-73.96965026855469|40.757766723632805|           1|       31.5|  0.0|    0.5|      3.78|        5.54|                  0.3|       41.62|      3|\n",
       "+--------+--------------------+---------------------+---------------+-------------+------------------+------------------+----------+------------------+------------------+------------------+------------+-----------+-----+-------+----------+------------+---------------------+------------+-------+"
      ]
     },
     "execution_count": 12,
     "metadata": {},
     "output_type": "execute_result"
    }
   ],
   "source": [
    "df.limit(4)"
   ]
  },
  {
   "cell_type": "markdown",
   "id": "f13ad1d4",
   "metadata": {},
   "source": [
    "# Deleting the duplicates"
   ]
  },
  {
   "cell_type": "code",
   "execution_count": 13,
   "id": "2176e42e",
   "metadata": {},
   "outputs": [
    {
     "data": {
      "text/plain": [
       "100000"
      ]
     },
     "execution_count": 13,
     "metadata": {},
     "output_type": "execute_result"
    }
   ],
   "source": [
    "df.count()"
   ]
  },
  {
   "cell_type": "code",
   "execution_count": 14,
   "id": "167bec89",
   "metadata": {},
   "outputs": [
    {
     "data": {
      "text/plain": [
       "20"
      ]
     },
     "execution_count": 14,
     "metadata": {},
     "output_type": "execute_result"
    }
   ],
   "source": [
    "len(df.columns)"
   ]
  },
  {
   "cell_type": "code",
   "execution_count": 15,
   "id": "5d2cfc74",
   "metadata": {},
   "outputs": [],
   "source": [
    "df=df.dropDuplicates()"
   ]
  },
  {
   "cell_type": "code",
   "execution_count": 16,
   "id": "2aaeb51e",
   "metadata": {},
   "outputs": [],
   "source": [
    "#df = df.withColumn(\"trip_id\", monotonically_increasing_id())"
   ]
  },
  {
   "cell_type": "code",
   "execution_count": 17,
   "id": "de35ce68",
   "metadata": {},
   "outputs": [
    {
     "data": {
      "text/plain": [
       "100000"
      ]
     },
     "execution_count": 17,
     "metadata": {},
     "output_type": "execute_result"
    }
   ],
   "source": [
    "df.count()"
   ]
  },
  {
   "cell_type": "code",
   "execution_count": 18,
   "id": "60a93c52",
   "metadata": {},
   "outputs": [
    {
     "data": {
      "text/html": [
       "<table border='1'>\n",
       "<tr><th>VendorID</th><th>tpep_pickup_datetime</th><th>tpep_dropoff_datetime</th><th>passenger_count</th><th>trip_distance</th><th>pickup_longitude</th><th>pickup_latitude</th><th>RatecodeID</th><th>store_and_fwd_flag</th><th>dropoff_longitude</th><th>dropoff_latitude</th><th>payment_type</th><th>fare_amount</th><th>extra</th><th>mta_tax</th><th>tip_amount</th><th>tolls_amount</th><th>improvement_surcharge</th><th>total_amount</th><th>trip_id</th></tr>\n",
       "<tr><td>1</td><td>2016-03-01 00:00:14</td><td>2016-03-01 00:21:58</td><td>1</td><td>6.9</td><td>-73.95418548583984</td><td>40.76414108276367</td><td>1</td><td>N</td><td>-73.90243530273438</td><td>40.82696914672852</td><td>2</td><td>22.5</td><td>0.5</td><td>0.5</td><td>0.0</td><td>0.0</td><td>0.3</td><td>23.8</td><td>41</td></tr>\n",
       "<tr><td>2</td><td>2016-03-01 00:00:40</td><td>2016-03-01 00:08:47</td><td>1</td><td>1.43</td><td>-73.99883270263672</td><td>40.72496795654297</td><td>1</td><td>N</td><td>-74.00899505615233</td><td>40.73814392089844</td><td>1</td><td>7.5</td><td>0.5</td><td>0.5</td><td>2.64</td><td>0.0</td><td>0.3</td><td>11.44</td><td>113</td></tr>\n",
       "<tr><td>1</td><td>2016-03-01 00:01:06</td><td>2016-03-01 00:14:41</td><td>1</td><td>3.2</td><td>-73.98702239990233</td><td>40.75537490844727</td><td>1</td><td>N</td><td>-73.9505844116211</td><td>40.77481842041016</td><td>1</td><td>12.5</td><td>0.5</td><td>0.5</td><td>3.45</td><td>0.0</td><td>0.3</td><td>17.25</td><td>172</td></tr>\n",
       "<tr><td>2</td><td>2016-03-10 07:07:48</td><td>2016-03-10 07:17:46</td><td>1</td><td>1.28</td><td>-73.98023986816406</td><td>40.73904037475586</td><td>1</td><td>N</td><td>-73.99152374267578</td><td>40.748779296875</td><td>1</td><td>8.5</td><td>0.0</td><td>0.5</td><td>1.0</td><td>0.0</td><td>0.3</td><td>10.3</td><td>251</td></tr>\n",
       "<tr><td>2</td><td>2016-03-10 07:08:33</td><td>2016-03-10 07:15:24</td><td>5</td><td>1.92</td><td>-73.98770141601561</td><td>40.77016067504882</td><td>1</td><td>N</td><td>-73.96994018554686</td><td>40.794578552246094</td><td>1</td><td>8.0</td><td>0.0</td><td>0.5</td><td>1.0</td><td>0.0</td><td>0.3</td><td>9.8</td><td>376</td></tr>\n",
       "<tr><td>2</td><td>2016-03-10 07:09:10</td><td>2016-03-10 07:19:57</td><td>1</td><td>1.81</td><td>-73.94940948486328</td><td>40.773529052734375</td><td>1</td><td>N</td><td>-73.96933746337889</td><td>40.76039123535156</td><td>1</td><td>9.5</td><td>0.0</td><td>0.5</td><td>2.06</td><td>0.0</td><td>0.3</td><td>12.36</td><td>467</td></tr>\n",
       "</table>\n"
      ],
      "text/plain": [
       "+--------+--------------------+---------------------+---------------+-------------+------------------+------------------+----------+------------------+------------------+------------------+------------+-----------+-----+-------+----------+------------+---------------------+------------+-------+\n",
       "|VendorID|tpep_pickup_datetime|tpep_dropoff_datetime|passenger_count|trip_distance|  pickup_longitude|   pickup_latitude|RatecodeID|store_and_fwd_flag| dropoff_longitude|  dropoff_latitude|payment_type|fare_amount|extra|mta_tax|tip_amount|tolls_amount|improvement_surcharge|total_amount|trip_id|\n",
       "+--------+--------------------+---------------------+---------------+-------------+------------------+------------------+----------+------------------+------------------+------------------+------------+-----------+-----+-------+----------+------------+---------------------+------------+-------+\n",
       "|       1| 2016-03-01 00:00:14|  2016-03-01 00:21:58|              1|          6.9|-73.95418548583984| 40.76414108276367|         1|                 N|-73.90243530273438| 40.82696914672852|           2|       22.5|  0.5|    0.5|       0.0|         0.0|                  0.3|        23.8|     41|\n",
       "|       2| 2016-03-01 00:00:40|  2016-03-01 00:08:47|              1|         1.43|-73.99883270263672| 40.72496795654297|         1|                 N|-74.00899505615233| 40.73814392089844|           1|        7.5|  0.5|    0.5|      2.64|         0.0|                  0.3|       11.44|    113|\n",
       "|       1| 2016-03-01 00:01:06|  2016-03-01 00:14:41|              1|          3.2|-73.98702239990233| 40.75537490844727|         1|                 N| -73.9505844116211| 40.77481842041016|           1|       12.5|  0.5|    0.5|      3.45|         0.0|                  0.3|       17.25|    172|\n",
       "|       2| 2016-03-10 07:07:48|  2016-03-10 07:17:46|              1|         1.28|-73.98023986816406| 40.73904037475586|         1|                 N|-73.99152374267578|   40.748779296875|           1|        8.5|  0.0|    0.5|       1.0|         0.0|                  0.3|        10.3|    251|\n",
       "|       2| 2016-03-10 07:08:33|  2016-03-10 07:15:24|              5|         1.92|-73.98770141601561| 40.77016067504882|         1|                 N|-73.96994018554686|40.794578552246094|           1|        8.0|  0.0|    0.5|       1.0|         0.0|                  0.3|         9.8|    376|\n",
       "|       2| 2016-03-10 07:09:10|  2016-03-10 07:19:57|              1|         1.81|-73.94940948486328|40.773529052734375|         1|                 N|-73.96933746337889| 40.76039123535156|           1|        9.5|  0.0|    0.5|      2.06|         0.0|                  0.3|       12.36|    467|\n",
       "+--------+--------------------+---------------------+---------------+-------------+------------------+------------------+----------+------------------+------------------+------------------+------------+-----------+-----+-------+----------+------------+---------------------+------------+-------+"
      ]
     },
     "execution_count": 18,
     "metadata": {},
     "output_type": "execute_result"
    }
   ],
   "source": [
    "df.limit(6)"
   ]
  },
  {
   "cell_type": "code",
   "execution_count": 19,
   "id": "685ccb50",
   "metadata": {},
   "outputs": [],
   "source": [
    "df=df.orderBy('trip_id')"
   ]
  },
  {
   "cell_type": "code",
   "execution_count": 20,
   "id": "4fa95c6c",
   "metadata": {},
   "outputs": [
    {
     "data": {
      "text/html": [
       "<table border='1'>\n",
       "<tr><th>VendorID</th><th>tpep_pickup_datetime</th><th>tpep_dropoff_datetime</th><th>passenger_count</th><th>trip_distance</th><th>pickup_longitude</th><th>pickup_latitude</th><th>RatecodeID</th><th>store_and_fwd_flag</th><th>dropoff_longitude</th><th>dropoff_latitude</th><th>payment_type</th><th>fare_amount</th><th>extra</th><th>mta_tax</th><th>tip_amount</th><th>tolls_amount</th><th>improvement_surcharge</th><th>total_amount</th><th>trip_id</th></tr>\n",
       "<tr><td>1</td><td>2016-03-01 00:00:00</td><td>2016-03-01 00:07:55</td><td>1</td><td>2.5</td><td>-73.97674560546875</td><td>40.765151977539055</td><td>1</td><td>N</td><td>-74.00426483154298</td><td>40.74612808227539</td><td>1</td><td>9.0</td><td>0.5</td><td>0.5</td><td>2.05</td><td>0.0</td><td>0.3</td><td>12.35</td><td>0</td></tr>\n",
       "<tr><td>1</td><td>2016-03-01 00:00:00</td><td>2016-03-01 00:11:06</td><td>1</td><td>2.9</td><td>-73.98348236083984</td><td>40.767925262451165</td><td>1</td><td>N</td><td>-74.00594329833984</td><td>40.7331657409668</td><td>1</td><td>11.0</td><td>0.5</td><td>0.5</td><td>3.05</td><td>0.0</td><td>0.3</td><td>15.35</td><td>1</td></tr>\n",
       "<tr><td>2</td><td>2016-03-01 00:00:00</td><td>2016-03-01 00:31:06</td><td>2</td><td>19.98</td><td>-73.78202056884764</td><td>40.64480972290039</td><td>1</td><td>N</td><td>-73.97454071044923</td><td>40.6757698059082</td><td>1</td><td>54.5</td><td>0.5</td><td>0.5</td><td>8.0</td><td>0.0</td><td>0.3</td><td>63.8</td><td>2</td></tr>\n",
       "<tr><td>2</td><td>2016-03-01 00:00:00</td><td>2016-03-01 00:00:00</td><td>3</td><td>10.78</td><td>-73.86341857910156</td><td>40.769813537597656</td><td>1</td><td>N</td><td>-73.96965026855469</td><td>40.757766723632805</td><td>1</td><td>31.5</td><td>0.0</td><td>0.5</td><td>3.78</td><td>5.54</td><td>0.3</td><td>41.62</td><td>3</td></tr>\n",
       "<tr><td>2</td><td>2016-03-01 00:00:00</td><td>2016-03-01 00:00:00</td><td>5</td><td>30.43</td><td>-73.97174072265625</td><td>40.79218292236328</td><td>3</td><td>N</td><td>-74.17716979980467</td><td>40.69505310058594</td><td>1</td><td>98.0</td><td>0.0</td><td>0.0</td><td>0.0</td><td>15.5</td><td>0.3</td><td>113.8</td><td>4</td></tr>\n",
       "</table>\n"
      ],
      "text/plain": [
       "+--------+--------------------+---------------------+---------------+-------------+------------------+------------------+----------+------------------+------------------+------------------+------------+-----------+-----+-------+----------+------------+---------------------+------------+-------+\n",
       "|VendorID|tpep_pickup_datetime|tpep_dropoff_datetime|passenger_count|trip_distance|  pickup_longitude|   pickup_latitude|RatecodeID|store_and_fwd_flag| dropoff_longitude|  dropoff_latitude|payment_type|fare_amount|extra|mta_tax|tip_amount|tolls_amount|improvement_surcharge|total_amount|trip_id|\n",
       "+--------+--------------------+---------------------+---------------+-------------+------------------+------------------+----------+------------------+------------------+------------------+------------+-----------+-----+-------+----------+------------+---------------------+------------+-------+\n",
       "|       1| 2016-03-01 00:00:00|  2016-03-01 00:07:55|              1|          2.5|-73.97674560546875|40.765151977539055|         1|                 N|-74.00426483154298| 40.74612808227539|           1|        9.0|  0.5|    0.5|      2.05|         0.0|                  0.3|       12.35|      0|\n",
       "|       1| 2016-03-01 00:00:00|  2016-03-01 00:11:06|              1|          2.9|-73.98348236083984|40.767925262451165|         1|                 N|-74.00594329833984|  40.7331657409668|           1|       11.0|  0.5|    0.5|      3.05|         0.0|                  0.3|       15.35|      1|\n",
       "|       2| 2016-03-01 00:00:00|  2016-03-01 00:31:06|              2|        19.98|-73.78202056884764| 40.64480972290039|         1|                 N|-73.97454071044923|  40.6757698059082|           1|       54.5|  0.5|    0.5|       8.0|         0.0|                  0.3|        63.8|      2|\n",
       "|       2| 2016-03-01 00:00:00|  2016-03-01 00:00:00|              3|        10.78|-73.86341857910156|40.769813537597656|         1|                 N|-73.96965026855469|40.757766723632805|           1|       31.5|  0.0|    0.5|      3.78|        5.54|                  0.3|       41.62|      3|\n",
       "|       2| 2016-03-01 00:00:00|  2016-03-01 00:00:00|              5|        30.43|-73.97174072265625| 40.79218292236328|         3|                 N|-74.17716979980467| 40.69505310058594|           1|       98.0|  0.0|    0.0|       0.0|        15.5|                  0.3|       113.8|      4|\n",
       "+--------+--------------------+---------------------+---------------+-------------+------------------+------------------+----------+------------------+------------------+------------------+------------+-----------+-----+-------+----------+------------+---------------------+------------+-------+"
      ]
     },
     "execution_count": 20,
     "metadata": {},
     "output_type": "execute_result"
    }
   ],
   "source": [
    "df.limit(5)"
   ]
  },
  {
   "cell_type": "markdown",
   "id": "62c35cbd",
   "metadata": {},
   "source": [
    "# Rearranging df"
   ]
  },
  {
   "cell_type": "code",
   "execution_count": 21,
   "id": "69987674",
   "metadata": {},
   "outputs": [
    {
     "data": {
      "text/plain": [
       "['VendorID',\n",
       " 'tpep_pickup_datetime',\n",
       " 'tpep_dropoff_datetime',\n",
       " 'passenger_count',\n",
       " 'trip_distance',\n",
       " 'pickup_longitude',\n",
       " 'pickup_latitude',\n",
       " 'RatecodeID',\n",
       " 'store_and_fwd_flag',\n",
       " 'dropoff_longitude',\n",
       " 'dropoff_latitude',\n",
       " 'payment_type',\n",
       " 'fare_amount',\n",
       " 'extra',\n",
       " 'mta_tax',\n",
       " 'tip_amount',\n",
       " 'tolls_amount',\n",
       " 'improvement_surcharge',\n",
       " 'total_amount',\n",
       " 'trip_id']"
      ]
     },
     "execution_count": 21,
     "metadata": {},
     "output_type": "execute_result"
    }
   ],
   "source": [
    "df.columns"
   ]
  },
  {
   "cell_type": "code",
   "execution_count": 22,
   "id": "6c99d8db",
   "metadata": {},
   "outputs": [],
   "source": [
    "df=df[['trip_id','VendorID',\n",
    " 'tpep_pickup_datetime',\n",
    " 'tpep_dropoff_datetime',\n",
    " 'passenger_count',\n",
    " 'trip_distance',\n",
    " 'pickup_longitude',\n",
    " 'pickup_latitude',\n",
    " 'RatecodeID',\n",
    " 'store_and_fwd_flag',\n",
    " 'dropoff_longitude',\n",
    " 'dropoff_latitude',\n",
    " 'payment_type',\n",
    " 'fare_amount',\n",
    " 'extra',\n",
    " 'mta_tax',\n",
    " 'tip_amount',\n",
    " 'tolls_amount',\n",
    " 'improvement_surcharge',\n",
    " 'total_amount']]"
   ]
  },
  {
   "cell_type": "code",
   "execution_count": 23,
   "id": "a6749f74",
   "metadata": {},
   "outputs": [
    {
     "data": {
      "text/html": [
       "<table border='1'>\n",
       "<tr><th>trip_id</th><th>VendorID</th><th>tpep_pickup_datetime</th><th>tpep_dropoff_datetime</th><th>passenger_count</th><th>trip_distance</th><th>pickup_longitude</th><th>pickup_latitude</th><th>RatecodeID</th><th>store_and_fwd_flag</th><th>dropoff_longitude</th><th>dropoff_latitude</th><th>payment_type</th><th>fare_amount</th><th>extra</th><th>mta_tax</th><th>tip_amount</th><th>tolls_amount</th><th>improvement_surcharge</th><th>total_amount</th></tr>\n",
       "<tr><td>0</td><td>1</td><td>2016-03-01 00:00:00</td><td>2016-03-01 00:07:55</td><td>1</td><td>2.5</td><td>-73.97674560546875</td><td>40.765151977539055</td><td>1</td><td>N</td><td>-74.00426483154298</td><td>40.74612808227539</td><td>1</td><td>9.0</td><td>0.5</td><td>0.5</td><td>2.05</td><td>0.0</td><td>0.3</td><td>12.35</td></tr>\n",
       "<tr><td>1</td><td>1</td><td>2016-03-01 00:00:00</td><td>2016-03-01 00:11:06</td><td>1</td><td>2.9</td><td>-73.98348236083984</td><td>40.767925262451165</td><td>1</td><td>N</td><td>-74.00594329833984</td><td>40.7331657409668</td><td>1</td><td>11.0</td><td>0.5</td><td>0.5</td><td>3.05</td><td>0.0</td><td>0.3</td><td>15.35</td></tr>\n",
       "<tr><td>2</td><td>2</td><td>2016-03-01 00:00:00</td><td>2016-03-01 00:31:06</td><td>2</td><td>19.98</td><td>-73.78202056884764</td><td>40.64480972290039</td><td>1</td><td>N</td><td>-73.97454071044923</td><td>40.6757698059082</td><td>1</td><td>54.5</td><td>0.5</td><td>0.5</td><td>8.0</td><td>0.0</td><td>0.3</td><td>63.8</td></tr>\n",
       "<tr><td>3</td><td>2</td><td>2016-03-01 00:00:00</td><td>2016-03-01 00:00:00</td><td>3</td><td>10.78</td><td>-73.86341857910156</td><td>40.769813537597656</td><td>1</td><td>N</td><td>-73.96965026855469</td><td>40.757766723632805</td><td>1</td><td>31.5</td><td>0.0</td><td>0.5</td><td>3.78</td><td>5.54</td><td>0.3</td><td>41.62</td></tr>\n",
       "<tr><td>4</td><td>2</td><td>2016-03-01 00:00:00</td><td>2016-03-01 00:00:00</td><td>5</td><td>30.43</td><td>-73.97174072265625</td><td>40.79218292236328</td><td>3</td><td>N</td><td>-74.17716979980467</td><td>40.69505310058594</td><td>1</td><td>98.0</td><td>0.0</td><td>0.0</td><td>0.0</td><td>15.5</td><td>0.3</td><td>113.8</td></tr>\n",
       "</table>\n"
      ],
      "text/plain": [
       "+-------+--------+--------------------+---------------------+---------------+-------------+------------------+------------------+----------+------------------+------------------+------------------+------------+-----------+-----+-------+----------+------------+---------------------+------------+\n",
       "|trip_id|VendorID|tpep_pickup_datetime|tpep_dropoff_datetime|passenger_count|trip_distance|  pickup_longitude|   pickup_latitude|RatecodeID|store_and_fwd_flag| dropoff_longitude|  dropoff_latitude|payment_type|fare_amount|extra|mta_tax|tip_amount|tolls_amount|improvement_surcharge|total_amount|\n",
       "+-------+--------+--------------------+---------------------+---------------+-------------+------------------+------------------+----------+------------------+------------------+------------------+------------+-----------+-----+-------+----------+------------+---------------------+------------+\n",
       "|      0|       1| 2016-03-01 00:00:00|  2016-03-01 00:07:55|              1|          2.5|-73.97674560546875|40.765151977539055|         1|                 N|-74.00426483154298| 40.74612808227539|           1|        9.0|  0.5|    0.5|      2.05|         0.0|                  0.3|       12.35|\n",
       "|      1|       1| 2016-03-01 00:00:00|  2016-03-01 00:11:06|              1|          2.9|-73.98348236083984|40.767925262451165|         1|                 N|-74.00594329833984|  40.7331657409668|           1|       11.0|  0.5|    0.5|      3.05|         0.0|                  0.3|       15.35|\n",
       "|      2|       2| 2016-03-01 00:00:00|  2016-03-01 00:31:06|              2|        19.98|-73.78202056884764| 40.64480972290039|         1|                 N|-73.97454071044923|  40.6757698059082|           1|       54.5|  0.5|    0.5|       8.0|         0.0|                  0.3|        63.8|\n",
       "|      3|       2| 2016-03-01 00:00:00|  2016-03-01 00:00:00|              3|        10.78|-73.86341857910156|40.769813537597656|         1|                 N|-73.96965026855469|40.757766723632805|           1|       31.5|  0.0|    0.5|      3.78|        5.54|                  0.3|       41.62|\n",
       "|      4|       2| 2016-03-01 00:00:00|  2016-03-01 00:00:00|              5|        30.43|-73.97174072265625| 40.79218292236328|         3|                 N|-74.17716979980467| 40.69505310058594|           1|       98.0|  0.0|    0.0|       0.0|        15.5|                  0.3|       113.8|\n",
       "+-------+--------+--------------------+---------------------+---------------+-------------+------------------+------------------+----------+------------------+------------------+------------------+------------+-----------+-----+-------+----------+------------+---------------------+------------+"
      ]
     },
     "execution_count": 23,
     "metadata": {},
     "output_type": "execute_result"
    }
   ],
   "source": [
    "df.limit(5)"
   ]
  },
  {
   "cell_type": "markdown",
   "id": "0dcd5938",
   "metadata": {},
   "source": [
    "# Creating \"datetime_dim\" dimension table"
   ]
  },
  {
   "cell_type": "code",
   "execution_count": 24,
   "id": "b7830242",
   "metadata": {},
   "outputs": [],
   "source": [
    "datetime_dim = df.select('tpep_pickup_datetime', 'tpep_dropoff_datetime')\\\n",
    "                 .withColumn('pick_hour', hour('tpep_pickup_datetime'))\\\n",
    "                 .withColumn('pick_day', dayofmonth('tpep_pickup_datetime'))\\\n",
    "                 .withColumn('pick_month', month('tpep_pickup_datetime'))\\\n",
    "                 .withColumn('pick_year', year('tpep_pickup_datetime'))\\\n",
    "                 .withColumn('pick_weekday', date_format('tpep_pickup_datetime', 'u').cast('integer'))\\\n",
    "                 .withColumn('drop_hour', hour('tpep_dropoff_datetime'))\\\n",
    "                 .withColumn('drop_day', dayofmonth('tpep_dropoff_datetime'))\\\n",
    "                 .withColumn('drop_month', month('tpep_dropoff_datetime'))\\\n",
    "                 .withColumn('drop_year', year('tpep_dropoff_datetime'))\\\n",
    "                 .withColumn('drop_weekday', date_format('tpep_dropoff_datetime', 'u').cast('integer'))\\\n",
    "                 .withColumn('datetime_id', monotonically_increasing_id())"
   ]
  },
  {
   "cell_type": "code",
   "execution_count": 25,
   "id": "ad02a521",
   "metadata": {},
   "outputs": [
    {
     "data": {
      "text/html": [
       "<table border='1'>\n",
       "<tr><th>tpep_pickup_datetime</th><th>tpep_dropoff_datetime</th><th>pick_hour</th><th>pick_day</th><th>pick_month</th><th>pick_year</th><th>pick_weekday</th><th>drop_hour</th><th>drop_day</th><th>drop_month</th><th>drop_year</th><th>drop_weekday</th><th>datetime_id</th></tr>\n",
       "<tr><td>2016-03-01 00:00:00</td><td>2016-03-01 00:07:55</td><td>0</td><td>1</td><td>3</td><td>2016</td><td>2</td><td>0</td><td>1</td><td>3</td><td>2016</td><td>2</td><td>0</td></tr>\n",
       "<tr><td>2016-03-01 00:00:00</td><td>2016-03-01 00:11:06</td><td>0</td><td>1</td><td>3</td><td>2016</td><td>2</td><td>0</td><td>1</td><td>3</td><td>2016</td><td>2</td><td>1</td></tr>\n",
       "<tr><td>2016-03-01 00:00:00</td><td>2016-03-01 00:31:06</td><td>0</td><td>1</td><td>3</td><td>2016</td><td>2</td><td>0</td><td>1</td><td>3</td><td>2016</td><td>2</td><td>2</td></tr>\n",
       "<tr><td>2016-03-01 00:00:00</td><td>2016-03-01 00:00:00</td><td>0</td><td>1</td><td>3</td><td>2016</td><td>2</td><td>0</td><td>1</td><td>3</td><td>2016</td><td>2</td><td>3</td></tr>\n",
       "<tr><td>2016-03-01 00:00:00</td><td>2016-03-01 00:00:00</td><td>0</td><td>1</td><td>3</td><td>2016</td><td>2</td><td>0</td><td>1</td><td>3</td><td>2016</td><td>2</td><td>4</td></tr>\n",
       "</table>\n"
      ],
      "text/plain": [
       "+--------------------+---------------------+---------+--------+----------+---------+------------+---------+--------+----------+---------+------------+-----------+\n",
       "|tpep_pickup_datetime|tpep_dropoff_datetime|pick_hour|pick_day|pick_month|pick_year|pick_weekday|drop_hour|drop_day|drop_month|drop_year|drop_weekday|datetime_id|\n",
       "+--------------------+---------------------+---------+--------+----------+---------+------------+---------+--------+----------+---------+------------+-----------+\n",
       "| 2016-03-01 00:00:00|  2016-03-01 00:07:55|        0|       1|         3|     2016|           2|        0|       1|         3|     2016|           2|          0|\n",
       "| 2016-03-01 00:00:00|  2016-03-01 00:11:06|        0|       1|         3|     2016|           2|        0|       1|         3|     2016|           2|          1|\n",
       "| 2016-03-01 00:00:00|  2016-03-01 00:31:06|        0|       1|         3|     2016|           2|        0|       1|         3|     2016|           2|          2|\n",
       "| 2016-03-01 00:00:00|  2016-03-01 00:00:00|        0|       1|         3|     2016|           2|        0|       1|         3|     2016|           2|          3|\n",
       "| 2016-03-01 00:00:00|  2016-03-01 00:00:00|        0|       1|         3|     2016|           2|        0|       1|         3|     2016|           2|          4|\n",
       "+--------------------+---------------------+---------+--------+----------+---------+------------+---------+--------+----------+---------+------------+-----------+"
      ]
     },
     "execution_count": 25,
     "metadata": {},
     "output_type": "execute_result"
    }
   ],
   "source": [
    "datetime_dim.limit(5)"
   ]
  },
  {
   "cell_type": "code",
   "execution_count": 26,
   "id": "d106e00b",
   "metadata": {},
   "outputs": [
    {
     "data": {
      "text/plain": [
       "['tpep_pickup_datetime',\n",
       " 'tpep_dropoff_datetime',\n",
       " 'pick_hour',\n",
       " 'pick_day',\n",
       " 'pick_month',\n",
       " 'pick_year',\n",
       " 'pick_weekday',\n",
       " 'drop_hour',\n",
       " 'drop_day',\n",
       " 'drop_month',\n",
       " 'drop_year',\n",
       " 'drop_weekday',\n",
       " 'datetime_id']"
      ]
     },
     "execution_count": 26,
     "metadata": {},
     "output_type": "execute_result"
    }
   ],
   "source": [
    "datetime_dim.columns"
   ]
  },
  {
   "cell_type": "code",
   "execution_count": 27,
   "id": "d3425e40",
   "metadata": {},
   "outputs": [],
   "source": [
    "datetime_dim=datetime_dim[[\n",
    " 'datetime_id',\n",
    " 'tpep_pickup_datetime',\n",
    " 'pick_hour',\n",
    " 'pick_day',\n",
    " 'pick_month',\n",
    " 'pick_year',\n",
    " 'pick_weekday',\n",
    " 'tpep_dropoff_datetime',\n",
    " 'drop_hour',\n",
    " 'drop_day',\n",
    " 'drop_month',\n",
    " 'drop_year',\n",
    " 'drop_weekday'\n",
    "  ]]"
   ]
  },
  {
   "cell_type": "code",
   "execution_count": 28,
   "id": "843b4adb",
   "metadata": {},
   "outputs": [
    {
     "data": {
      "text/html": [
       "<table border='1'>\n",
       "<tr><th>datetime_id</th><th>tpep_pickup_datetime</th><th>pick_hour</th><th>pick_day</th><th>pick_month</th><th>pick_year</th><th>pick_weekday</th><th>tpep_dropoff_datetime</th><th>drop_hour</th><th>drop_day</th><th>drop_month</th><th>drop_year</th><th>drop_weekday</th></tr>\n",
       "<tr><td>0</td><td>2016-03-01 00:00:00</td><td>0</td><td>1</td><td>3</td><td>2016</td><td>2</td><td>2016-03-01 00:07:55</td><td>0</td><td>1</td><td>3</td><td>2016</td><td>2</td></tr>\n",
       "<tr><td>1</td><td>2016-03-01 00:00:00</td><td>0</td><td>1</td><td>3</td><td>2016</td><td>2</td><td>2016-03-01 00:11:06</td><td>0</td><td>1</td><td>3</td><td>2016</td><td>2</td></tr>\n",
       "<tr><td>2</td><td>2016-03-01 00:00:00</td><td>0</td><td>1</td><td>3</td><td>2016</td><td>2</td><td>2016-03-01 00:31:06</td><td>0</td><td>1</td><td>3</td><td>2016</td><td>2</td></tr>\n",
       "<tr><td>3</td><td>2016-03-01 00:00:00</td><td>0</td><td>1</td><td>3</td><td>2016</td><td>2</td><td>2016-03-01 00:00:00</td><td>0</td><td>1</td><td>3</td><td>2016</td><td>2</td></tr>\n",
       "<tr><td>4</td><td>2016-03-01 00:00:00</td><td>0</td><td>1</td><td>3</td><td>2016</td><td>2</td><td>2016-03-01 00:00:00</td><td>0</td><td>1</td><td>3</td><td>2016</td><td>2</td></tr>\n",
       "</table>\n"
      ],
      "text/plain": [
       "+-----------+--------------------+---------+--------+----------+---------+------------+---------------------+---------+--------+----------+---------+------------+\n",
       "|datetime_id|tpep_pickup_datetime|pick_hour|pick_day|pick_month|pick_year|pick_weekday|tpep_dropoff_datetime|drop_hour|drop_day|drop_month|drop_year|drop_weekday|\n",
       "+-----------+--------------------+---------+--------+----------+---------+------------+---------------------+---------+--------+----------+---------+------------+\n",
       "|          0| 2016-03-01 00:00:00|        0|       1|         3|     2016|           2|  2016-03-01 00:07:55|        0|       1|         3|     2016|           2|\n",
       "|          1| 2016-03-01 00:00:00|        0|       1|         3|     2016|           2|  2016-03-01 00:11:06|        0|       1|         3|     2016|           2|\n",
       "|          2| 2016-03-01 00:00:00|        0|       1|         3|     2016|           2|  2016-03-01 00:31:06|        0|       1|         3|     2016|           2|\n",
       "|          3| 2016-03-01 00:00:00|        0|       1|         3|     2016|           2|  2016-03-01 00:00:00|        0|       1|         3|     2016|           2|\n",
       "|          4| 2016-03-01 00:00:00|        0|       1|         3|     2016|           2|  2016-03-01 00:00:00|        0|       1|         3|     2016|           2|\n",
       "+-----------+--------------------+---------+--------+----------+---------+------------+---------------------+---------+--------+----------+---------+------------+"
      ]
     },
     "execution_count": 28,
     "metadata": {},
     "output_type": "execute_result"
    }
   ],
   "source": [
    "datetime_dim.limit(5)"
   ]
  },
  {
   "cell_type": "markdown",
   "id": "44706bc0",
   "metadata": {},
   "source": [
    "# Creating \"passenger_count_dim\" dimension table"
   ]
  },
  {
   "cell_type": "code",
   "execution_count": 29,
   "id": "9073123a",
   "metadata": {},
   "outputs": [],
   "source": [
    "passenger_count_dim=df.select('passenger_count').withColumn('passenger_count_id',monotonically_increasing_id())\n",
    "passenger_count_dim=passenger_count_dim['passenger_count_id','passenger_count']"
   ]
  },
  {
   "cell_type": "code",
   "execution_count": 30,
   "id": "6883d20f",
   "metadata": {},
   "outputs": [
    {
     "data": {
      "text/html": [
       "<table border='1'>\n",
       "<tr><th>passenger_count_id</th><th>passenger_count</th></tr>\n",
       "<tr><td>0</td><td>1</td></tr>\n",
       "<tr><td>1</td><td>1</td></tr>\n",
       "<tr><td>2</td><td>2</td></tr>\n",
       "<tr><td>3</td><td>3</td></tr>\n",
       "<tr><td>4</td><td>5</td></tr>\n",
       "</table>\n"
      ],
      "text/plain": [
       "+------------------+---------------+\n",
       "|passenger_count_id|passenger_count|\n",
       "+------------------+---------------+\n",
       "|                 0|              1|\n",
       "|                 1|              1|\n",
       "|                 2|              2|\n",
       "|                 3|              3|\n",
       "|                 4|              5|\n",
       "+------------------+---------------+"
      ]
     },
     "execution_count": 30,
     "metadata": {},
     "output_type": "execute_result"
    }
   ],
   "source": [
    "passenger_count_dim.limit(5)"
   ]
  },
  {
   "cell_type": "markdown",
   "id": "1f5bb054",
   "metadata": {},
   "source": [
    "# Creating \"trip_distance_dim\" dimension table"
   ]
  },
  {
   "cell_type": "code",
   "execution_count": 31,
   "id": "fbec9365",
   "metadata": {},
   "outputs": [],
   "source": [
    "trip_distance_dim=df.select('trip_distance').withColumn('trip_distance_id',monotonically_increasing_id())\n",
    "trip_distance_dim=trip_distance_dim[['trip_distance_id','trip_distance']]"
   ]
  },
  {
   "cell_type": "code",
   "execution_count": 32,
   "id": "22b74e97",
   "metadata": {},
   "outputs": [
    {
     "data": {
      "text/html": [
       "<table border='1'>\n",
       "<tr><th>trip_distance_id</th><th>trip_distance</th></tr>\n",
       "<tr><td>0</td><td>2.5</td></tr>\n",
       "<tr><td>1</td><td>2.9</td></tr>\n",
       "<tr><td>2</td><td>19.98</td></tr>\n",
       "<tr><td>3</td><td>10.78</td></tr>\n",
       "<tr><td>4</td><td>30.43</td></tr>\n",
       "</table>\n"
      ],
      "text/plain": [
       "+----------------+-------------+\n",
       "|trip_distance_id|trip_distance|\n",
       "+----------------+-------------+\n",
       "|               0|          2.5|\n",
       "|               1|          2.9|\n",
       "|               2|        19.98|\n",
       "|               3|        10.78|\n",
       "|               4|        30.43|\n",
       "+----------------+-------------+"
      ]
     },
     "execution_count": 32,
     "metadata": {},
     "output_type": "execute_result"
    }
   ],
   "source": [
    "trip_distance_dim.limit(5)"
   ]
  },
  {
   "cell_type": "markdown",
   "id": "5d8c3954",
   "metadata": {},
   "source": [
    "# Creating \"rate_code_dim\" dimenson table"
   ]
  },
  {
   "cell_type": "code",
   "execution_count": 33,
   "id": "26ab7082",
   "metadata": {},
   "outputs": [],
   "source": [
    "rate_code_type = {\n",
    "    \"1\":\"Standard rate\",\n",
    "    \"2\":\"JFK\",\n",
    "    \"3\":\"Newark\",\n",
    "    \"4\":\"Nassau or Westchester\",\n",
    "    \"5\":\"Negotiated fare\",\n",
    "    \"6\":\"Group ride\"\n",
    "}\n",
    "\n",
    "rate_code_dim=df.select(\"RatecodeID\")\n",
    "rate_code_dim=rate_code_dim.withColumn(\"rate_code_name\",df['RatecodeID'])\n",
    "rate_code_dim=rate_code_dim.replace(to_replace=rate_code_type,subset=['rate_code_name'])\n",
    "rate_code_dim=rate_code_dim.withColumn(\"rate_code_id\",monotonically_increasing_id())\n",
    "rate_code_dim=rate_code_dim.select(\"rate_code_id\",\"RatecodeID\",\"rate_code_name\")"
   ]
  },
  {
   "cell_type": "code",
   "execution_count": 34,
   "id": "7e66b8e2",
   "metadata": {},
   "outputs": [
    {
     "data": {
      "text/html": [
       "<table border='1'>\n",
       "<tr><th>rate_code_id</th><th>RatecodeID</th><th>rate_code_name</th></tr>\n",
       "<tr><td>0</td><td>1</td><td>Standard rate</td></tr>\n",
       "<tr><td>1</td><td>1</td><td>Standard rate</td></tr>\n",
       "<tr><td>2</td><td>1</td><td>Standard rate</td></tr>\n",
       "<tr><td>3</td><td>1</td><td>Standard rate</td></tr>\n",
       "<tr><td>4</td><td>3</td><td>Newark</td></tr>\n",
       "</table>\n"
      ],
      "text/plain": [
       "+------------+----------+--------------+\n",
       "|rate_code_id|RatecodeID|rate_code_name|\n",
       "+------------+----------+--------------+\n",
       "|           0|         1| Standard rate|\n",
       "|           1|         1| Standard rate|\n",
       "|           2|         1| Standard rate|\n",
       "|           3|         1| Standard rate|\n",
       "|           4|         3|        Newark|\n",
       "+------------+----------+--------------+"
      ]
     },
     "execution_count": 34,
     "metadata": {},
     "output_type": "execute_result"
    }
   ],
   "source": [
    "rate_code_dim.limit(5)"
   ]
  },
  {
   "cell_type": "markdown",
   "id": "21e5261c",
   "metadata": {},
   "source": [
    "# Creating \"pickup_location_dim\" dimenson table"
   ]
  },
  {
   "cell_type": "code",
   "execution_count": 35,
   "id": "ec267e6a",
   "metadata": {},
   "outputs": [],
   "source": [
    "pickup_location_dim=df.select('pickup_latitude','pickup_longitude').withColumn(\"pickup_location_id\",monotonically_increasing_id())\n",
    "pickup_location_dim=pickup_location_dim.select(\"pickup_location_id\",\"pickup_latitude\",\"pickup_longitude\")"
   ]
  },
  {
   "cell_type": "code",
   "execution_count": 36,
   "id": "fd951cfe",
   "metadata": {},
   "outputs": [
    {
     "data": {
      "text/html": [
       "<table border='1'>\n",
       "<tr><th>pickup_location_id</th><th>pickup_latitude</th><th>pickup_longitude</th></tr>\n",
       "<tr><td>0</td><td>40.765151977539055</td><td>-73.97674560546875</td></tr>\n",
       "<tr><td>1</td><td>40.767925262451165</td><td>-73.98348236083984</td></tr>\n",
       "<tr><td>2</td><td>40.64480972290039</td><td>-73.78202056884764</td></tr>\n",
       "<tr><td>3</td><td>40.769813537597656</td><td>-73.86341857910156</td></tr>\n",
       "<tr><td>4</td><td>40.79218292236328</td><td>-73.97174072265625</td></tr>\n",
       "</table>\n"
      ],
      "text/plain": [
       "+------------------+------------------+------------------+\n",
       "|pickup_location_id|   pickup_latitude|  pickup_longitude|\n",
       "+------------------+------------------+------------------+\n",
       "|                 0|40.765151977539055|-73.97674560546875|\n",
       "|                 1|40.767925262451165|-73.98348236083984|\n",
       "|                 2| 40.64480972290039|-73.78202056884764|\n",
       "|                 3|40.769813537597656|-73.86341857910156|\n",
       "|                 4| 40.79218292236328|-73.97174072265625|\n",
       "+------------------+------------------+------------------+"
      ]
     },
     "execution_count": 36,
     "metadata": {},
     "output_type": "execute_result"
    }
   ],
   "source": [
    "pickup_location_dim.limit(5)"
   ]
  },
  {
   "cell_type": "markdown",
   "id": "ab2925eb",
   "metadata": {},
   "source": [
    "# Creating \"drop_location_dim\" dimenson table"
   ]
  },
  {
   "cell_type": "code",
   "execution_count": 37,
   "id": "f182f0cc",
   "metadata": {},
   "outputs": [],
   "source": [
    "dropoff_location_dim=df.select('dropoff_latitude','dropoff_longitude').withColumn(\"dropoff_location_id\",monotonically_increasing_id())\n",
    "dropoff_location_dim=dropoff_location_dim.select(\"dropoff_location_id\",\"dropoff_latitude\",\"dropoff_longitude\")"
   ]
  },
  {
   "cell_type": "code",
   "execution_count": 38,
   "id": "37ce1c70",
   "metadata": {},
   "outputs": [
    {
     "data": {
      "text/html": [
       "<table border='1'>\n",
       "<tr><th>dropoff_location_id</th><th>dropoff_latitude</th><th>dropoff_longitude</th></tr>\n",
       "<tr><td>0</td><td>40.74612808227539</td><td>-74.00426483154298</td></tr>\n",
       "<tr><td>1</td><td>40.7331657409668</td><td>-74.00594329833984</td></tr>\n",
       "<tr><td>2</td><td>40.6757698059082</td><td>-73.97454071044923</td></tr>\n",
       "<tr><td>3</td><td>40.757766723632805</td><td>-73.96965026855469</td></tr>\n",
       "<tr><td>4</td><td>40.69505310058594</td><td>-74.17716979980467</td></tr>\n",
       "</table>\n"
      ],
      "text/plain": [
       "+-------------------+------------------+------------------+\n",
       "|dropoff_location_id|  dropoff_latitude| dropoff_longitude|\n",
       "+-------------------+------------------+------------------+\n",
       "|                  0| 40.74612808227539|-74.00426483154298|\n",
       "|                  1|  40.7331657409668|-74.00594329833984|\n",
       "|                  2|  40.6757698059082|-73.97454071044923|\n",
       "|                  3|40.757766723632805|-73.96965026855469|\n",
       "|                  4| 40.69505310058594|-74.17716979980467|\n",
       "+-------------------+------------------+------------------+"
      ]
     },
     "execution_count": 38,
     "metadata": {},
     "output_type": "execute_result"
    }
   ],
   "source": [
    "dropoff_location_dim.limit(5)"
   ]
  },
  {
   "cell_type": "markdown",
   "id": "2456501e",
   "metadata": {},
   "source": [
    "# Creating \"payment_type_dim\" dimension table"
   ]
  },
  {
   "cell_type": "code",
   "execution_count": 39,
   "id": "5081801c",
   "metadata": {},
   "outputs": [],
   "source": [
    "payment_type_name = {\n",
    "    \"1\":\"Credit card\",\n",
    "    \"2\":\"Cash\",\n",
    "    \"3\":\"No charge\",\n",
    "    \"4\":\"Dispute\",\n",
    "    \"5\":\"Unknown\",\n",
    "    \"6\":\"Voided trip\"\n",
    "}\n",
    "\n",
    "payment_type_dim=df.select(\"payment_type\")\n",
    "payment_type_dim=payment_type_dim.withColumn(\"payment_type_name\",col('payment_type'))\n",
    "payment_type_dim=payment_type_dim.replace(to_replace=payment_type_name,subset=['payment_type_name'])\n",
    "payment_type_dim=payment_type_dim.withColumn(\"payment_type_id\",monotonically_increasing_id())\n",
    "payment_type_dim=payment_type_dim.select(\"payment_type_id\",\"payment_type\",\"payment_type_name\")"
   ]
  },
  {
   "cell_type": "code",
   "execution_count": 40,
   "id": "969f443e",
   "metadata": {},
   "outputs": [
    {
     "data": {
      "text/html": [
       "<table border='1'>\n",
       "<tr><th>payment_type_id</th><th>payment_type</th><th>payment_type_name</th></tr>\n",
       "<tr><td>0</td><td>1</td><td>Credit card</td></tr>\n",
       "<tr><td>1</td><td>1</td><td>Credit card</td></tr>\n",
       "<tr><td>2</td><td>1</td><td>Credit card</td></tr>\n",
       "<tr><td>3</td><td>1</td><td>Credit card</td></tr>\n",
       "<tr><td>4</td><td>1</td><td>Credit card</td></tr>\n",
       "</table>\n"
      ],
      "text/plain": [
       "+---------------+------------+-----------------+\n",
       "|payment_type_id|payment_type|payment_type_name|\n",
       "+---------------+------------+-----------------+\n",
       "|              0|           1|      Credit card|\n",
       "|              1|           1|      Credit card|\n",
       "|              2|           1|      Credit card|\n",
       "|              3|           1|      Credit card|\n",
       "|              4|           1|      Credit card|\n",
       "+---------------+------------+-----------------+"
      ]
     },
     "execution_count": 40,
     "metadata": {},
     "output_type": "execute_result"
    }
   ],
   "source": [
    "payment_type_dim.limit(5)"
   ]
  },
  {
   "cell_type": "markdown",
   "id": "460f6995",
   "metadata": {},
   "source": [
    "# Creating 'fact_tabel' table"
   ]
  },
  {
   "cell_type": "code",
   "execution_count": 41,
   "id": "ec5c1d21",
   "metadata": {},
   "outputs": [],
   "source": [
    "fact_table = df.join(passenger_count_dim, df.trip_id == passenger_count_dim.passenger_count_id) \\\n",
    "    .join(trip_distance_dim, df.trip_id == trip_distance_dim.trip_distance_id) \\\n",
    "    .join(rate_code_dim, df.trip_id == rate_code_dim.rate_code_id) \\\n",
    "    .join(pickup_location_dim, df.trip_id == pickup_location_dim.pickup_location_id) \\\n",
    "    .join(dropoff_location_dim, df.trip_id == dropoff_location_dim.dropoff_location_id) \\\n",
    "    .join(datetime_dim, df.trip_id == datetime_dim.datetime_id) \\\n",
    "    .join(payment_type_dim, df.trip_id == payment_type_dim.payment_type_id) \\\n",
    "    .select('trip_id','VendorID', 'datetime_id', 'passenger_count_id',\n",
    "               'trip_distance_id', 'rate_code_id', 'store_and_fwd_flag', 'pickup_location_id', 'dropoff_location_id',\n",
    "               'payment_type_id', 'fare_amount', 'extra', 'mta_tax', 'tip_amount', 'tolls_amount',\n",
    "               'improvement_surcharge', 'total_amount')\\\n",
    "    .orderBy(\"trip_id\")\n",
    "\n"
   ]
  },
  {
   "cell_type": "code",
   "execution_count": 42,
   "id": "a8746250",
   "metadata": {},
   "outputs": [
    {
     "data": {
      "text/html": [
       "<table border='1'>\n",
       "<tr><th>trip_id</th><th>VendorID</th><th>datetime_id</th><th>passenger_count_id</th><th>trip_distance_id</th><th>rate_code_id</th><th>store_and_fwd_flag</th><th>pickup_location_id</th><th>dropoff_location_id</th><th>payment_type_id</th><th>fare_amount</th><th>extra</th><th>mta_tax</th><th>tip_amount</th><th>tolls_amount</th><th>improvement_surcharge</th><th>total_amount</th></tr>\n",
       "<tr><td>0</td><td>1</td><td>0</td><td>0</td><td>0</td><td>0</td><td>N</td><td>0</td><td>0</td><td>0</td><td>9.0</td><td>0.5</td><td>0.5</td><td>2.05</td><td>0.0</td><td>0.3</td><td>12.35</td></tr>\n",
       "<tr><td>1</td><td>1</td><td>1</td><td>1</td><td>1</td><td>1</td><td>N</td><td>1</td><td>1</td><td>1</td><td>11.0</td><td>0.5</td><td>0.5</td><td>3.05</td><td>0.0</td><td>0.3</td><td>15.35</td></tr>\n",
       "<tr><td>2</td><td>2</td><td>2</td><td>2</td><td>2</td><td>2</td><td>N</td><td>2</td><td>2</td><td>2</td><td>54.5</td><td>0.5</td><td>0.5</td><td>8.0</td><td>0.0</td><td>0.3</td><td>63.8</td></tr>\n",
       "<tr><td>3</td><td>2</td><td>3</td><td>3</td><td>3</td><td>3</td><td>N</td><td>3</td><td>3</td><td>3</td><td>31.5</td><td>0.0</td><td>0.5</td><td>3.78</td><td>5.54</td><td>0.3</td><td>41.62</td></tr>\n",
       "<tr><td>4</td><td>2</td><td>4</td><td>4</td><td>4</td><td>4</td><td>N</td><td>4</td><td>4</td><td>4</td><td>98.0</td><td>0.0</td><td>0.0</td><td>0.0</td><td>15.5</td><td>0.3</td><td>113.8</td></tr>\n",
       "</table>\n"
      ],
      "text/plain": [
       "+-------+--------+-----------+------------------+----------------+------------+------------------+------------------+-------------------+---------------+-----------+-----+-------+----------+------------+---------------------+------------+\n",
       "|trip_id|VendorID|datetime_id|passenger_count_id|trip_distance_id|rate_code_id|store_and_fwd_flag|pickup_location_id|dropoff_location_id|payment_type_id|fare_amount|extra|mta_tax|tip_amount|tolls_amount|improvement_surcharge|total_amount|\n",
       "+-------+--------+-----------+------------------+----------------+------------+------------------+------------------+-------------------+---------------+-----------+-----+-------+----------+------------+---------------------+------------+\n",
       "|      0|       1|          0|                 0|               0|           0|                 N|                 0|                  0|              0|        9.0|  0.5|    0.5|      2.05|         0.0|                  0.3|       12.35|\n",
       "|      1|       1|          1|                 1|               1|           1|                 N|                 1|                  1|              1|       11.0|  0.5|    0.5|      3.05|         0.0|                  0.3|       15.35|\n",
       "|      2|       2|          2|                 2|               2|           2|                 N|                 2|                  2|              2|       54.5|  0.5|    0.5|       8.0|         0.0|                  0.3|        63.8|\n",
       "|      3|       2|          3|                 3|               3|           3|                 N|                 3|                  3|              3|       31.5|  0.0|    0.5|      3.78|        5.54|                  0.3|       41.62|\n",
       "|      4|       2|          4|                 4|               4|           4|                 N|                 4|                  4|              4|       98.0|  0.0|    0.0|       0.0|        15.5|                  0.3|       113.8|\n",
       "+-------+--------+-----------+------------------+----------------+------------+------------------+------------------+-------------------+---------------+-----------+-----+-------+----------+------------+---------------------+------------+"
      ]
     },
     "execution_count": 42,
     "metadata": {},
     "output_type": "execute_result"
    }
   ],
   "source": [
    "fact_table.limit(5)"
   ]
  },
  {
   "cell_type": "code",
   "execution_count": null,
   "id": "3d393854",
   "metadata": {},
   "outputs": [],
   "source": []
  }
 ],
 "metadata": {
  "kernelspec": {
   "display_name": "Python 3 (ipykernel)",
   "language": "python",
   "name": "python3"
  },
  "language_info": {
   "codemirror_mode": {
    "name": "ipython",
    "version": 3
   },
   "file_extension": ".py",
   "mimetype": "text/x-python",
   "name": "python",
   "nbconvert_exporter": "python",
   "pygments_lexer": "ipython3",
   "version": "3.9.13"
  }
 },
 "nbformat": 4,
 "nbformat_minor": 5
}
